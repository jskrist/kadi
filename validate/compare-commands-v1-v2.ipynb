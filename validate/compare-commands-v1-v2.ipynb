{
 "cells": [
  {
   "cell_type": "markdown",
   "metadata": {},
   "source": [
    "# Compare commands from V2 versus V1\n",
    "\n",
    "The V1 (legacy) commands archive is used as a reference standard to validate\n",
    "the new V2 commands archive.\n",
    "\n",
    "The primary difference is that V1 non-load commands and load stoppages are \n",
    "generated using the Chandra.cmd_states non-load commands table and timelines,\n",
    "while V2 uses only the Flight Command Events from Google Sheets."
   ]
  },
  {
   "cell_type": "code",
   "execution_count": 1,
   "metadata": {},
   "outputs": [],
   "source": [
    "import sys\n",
    "import os\n",
    "from pathlib import Path\n",
    "import difflib\n",
    "import webbrowser\n",
    "\n",
    "import numpy as np\n",
    "\n",
    "# Using dev versions\n",
    "sys.path.insert(0, '../')\n",
    "sys.path.insert(0, str(Path.home() / 'git' / 'parse_cm'))\n",
    "sys.path.insert(0, str(Path.home() / 'git' / 'testr'))\n",
    "\n",
    "from kadi.commands import get_cmds, conf"
   ]
  },
  {
   "cell_type": "code",
   "execution_count": 2,
   "metadata": {},
   "outputs": [],
   "source": [
    "from kadi import logger\n",
    "# If needed for debugging...\n",
    "# logger.setLevel(1)"
   ]
  },
  {
   "cell_type": "markdown",
   "metadata": {},
   "source": [
    "### Check data prior to RLTT era (APR1420B)\n",
    "\n",
    "In this era the commands are copied nearly verbatim, except:\n",
    "- ``source`` column is added (using ``timeline_id``)\n",
    "- ``timeline_id`` column is removed\n",
    "- ``AOSTRCAT`` parameters are included"
   ]
  },
  {
   "cell_type": "code",
   "execution_count": 3,
   "metadata": {},
   "outputs": [],
   "source": [
    "start = '2002-01-01'\n",
    "stop = '2020-01-01'\n",
    "\n",
    "with conf.set_temp('commands_version', '1'):\n",
    "    cmds1 = get_cmds(start, stop)\n",
    "with conf.set_temp('commands_version', '2'):\n",
    "    cmds2 = get_cmds(start, stop)\n",
    "    cmds2 = cmds2[cmds2['tlmsid'] != 'OBS']"
   ]
  },
  {
   "cell_type": "code",
   "execution_count": 4,
   "metadata": {},
   "outputs": [],
   "source": [
    "cmds1['date', 'type', 'tlmsid'].write('cmds1.dat', format='ascii.fixed_width', delimiter='|', bookend=False, overwrite=True)\n",
    "cmds2['date', 'type', 'tlmsid'].write('cmds2.dat', format='ascii.fixed_width', delimiter='|', bookend=False, overwrite=True)"
   ]
  },
  {
   "cell_type": "code",
   "execution_count": 5,
   "metadata": {},
   "outputs": [
    {
     "name": "stdout",
     "output_type": "stream",
     "text": [
      "306676,306677d306675\n",
      "< 2006:295:18:59:02.748 |      ACISPKT | AA00000000\n",
      "< 2006:295:18:59:02.748 |   COMMAND_SW |   AONMMODE\n",
      "306679,306680d306676\n",
      "< 2006:295:18:59:03.005 |   COMMAND_SW |   AONM2NPE\n",
      "< 2006:295:18:59:07.105 |  MP_TARGQUAT |   AOUPTARQ\n",
      "306683,306685d306678\n",
      "< 2006:295:18:59:08.748 |   MP_STARCAT |   AOSTRCAT\n",
      "< 2006:295:18:59:12.999 |   COMMAND_HW |      CNOOP\n",
      "< 2006:295:18:59:12.999 |   COMMAND_SW |   AOMANUVR\n",
      "306690,306692d306682\n",
      "< 2006:295:18:59:14.024 |   COMMAND_SW |   AOACRSTE\n",
      "< 2006:295:18:59:14.024 |   COMMAND_SW |    COACTSX\n",
      "< 2006:295:18:59:16.074 |   COMMAND_HW |      CNOOP\n",
      "420137d420126\n",
      "< 2008:225:10:00:00.000 |   COMMAND_SW |   AONSMSAF\n",
      "420141a420131\n",
      "> 2008:225:10:07:13.600 |   COMMAND_SW |   AONSMSAF\n"
     ]
    }
   ],
   "source": [
    "# Diffs should be localized to 2006:295:18:59 (incorrect load stop time\n",
    "# in v1) and NSM around 2008:225:10:00 (incorrect NSM time in v1)\n",
    "# 306676,306677d306675\n",
    "# < 2006:295:18:59:02.748 |      ACISPKT | AA00000000\n",
    "# < 2006:295:18:59:02.748 |   COMMAND_SW |   AONMMODE\n",
    "# 306679,306680d306676\n",
    "# < 2006:295:18:59:03.005 |   COMMAND_SW |   AONM2NPE\n",
    "# < 2006:295:18:59:07.105 |  MP_TARGQUAT |   AOUPTARQ\n",
    "# 306683,306685d306678\n",
    "# < 2006:295:18:59:08.748 |   MP_STARCAT |   AOSTRCAT\n",
    "# < 2006:295:18:59:12.999 |   COMMAND_HW |      CNOOP\n",
    "# < 2006:295:18:59:12.999 |   COMMAND_SW |   AOMANUVR\n",
    "# 306690,306692d306682\n",
    "# < 2006:295:18:59:14.024 |   COMMAND_SW |   AOACRSTE\n",
    "# < 2006:295:18:59:14.024 |   COMMAND_SW |    COACTSX\n",
    "# < 2006:295:18:59:16.074 |   COMMAND_HW |      CNOOP\n",
    "# 420137d420126\n",
    "# < 2008:225:10:00:00.000 |   COMMAND_SW |   AONSMSAF\n",
    "# 420141a420131\n",
    "# > 2008:225:10:07:13.600 |   COMMAND_SW |   AONSMSAF\n",
    "!diff cmds1.dat cmds2.dat"
   ]
  },
  {
   "cell_type": "markdown",
   "metadata": {},
   "source": [
    "### Generate diffs for commands from 2020-01-01 to 2022-01-01\n",
    "\n",
    "In this era there are real diffs, but all are acceptable. The diffs have been\n",
    "reviewed individually by aspect team members."
   ]
  },
  {
   "cell_type": "code",
   "execution_count": 6,
   "metadata": {},
   "outputs": [],
   "source": [
    "start = '2020-01-01'\n",
    "stop = '2022-01-01'"
   ]
  },
  {
   "cell_type": "code",
   "execution_count": 7,
   "metadata": {},
   "outputs": [],
   "source": [
    "with conf.set_temp('commands_version', '1'):\n",
    "    cmds1 = get_cmds(start, stop)"
   ]
  },
  {
   "cell_type": "code",
   "execution_count": 8,
   "metadata": {},
   "outputs": [],
   "source": [
    "with conf.set_temp('commands_version', '2'):\n",
    "    cmds2 = get_cmds(start, stop)"
   ]
  },
  {
   "cell_type": "code",
   "execution_count": 9,
   "metadata": {},
   "outputs": [],
   "source": [
    "# Commands V1 does not have starcat parameters or LOAD_EVENT commands\n",
    "for cmds in cmds1, cmds2:\n",
    "    ok = cmds['type'] == 'MP_STARCAT'\n",
    "    cmds['params'][ok] = {}\n",
    "    ok = cmds['type'] == 'LOAD_EVENT'\n",
    "    cmds.remove_rows(np.where(ok)[0])\n",
    "    cmds.sort(['date', 'step', 'scs'])"
   ]
  },
  {
   "cell_type": "code",
   "execution_count": 10,
   "metadata": {},
   "outputs": [
    {
     "data": {
      "text/plain": [
       "(156600, 156636)"
      ]
     },
     "execution_count": 10,
     "metadata": {},
     "output_type": "execute_result"
    }
   ],
   "source": [
    "# There are differences in the number of commands\n",
    "len(cmds1), len(cmds2)"
   ]
  },
  {
   "cell_type": "code",
   "execution_count": 11,
   "metadata": {},
   "outputs": [],
   "source": [
    "lines1 = cmds1.pformat_like_backstop(show_source=False, show_nonload_meta=False, max_params_width=40,\n",
    "                                     sort_orbit_events=True)\n",
    "lines2 = cmds2.pformat_like_backstop(show_source=False, show_nonload_meta=False, max_params_width=40, \n",
    "                                     sort_orbit_events=True)"
   ]
  },
  {
   "cell_type": "code",
   "execution_count": 12,
   "metadata": {},
   "outputs": [
    {
     "data": {
      "text/plain": [
       "True"
      ]
     },
     "execution_count": 12,
     "metadata": {},
     "output_type": "execute_result"
    }
   ],
   "source": [
    "htmldiffer = difflib.HtmlDiff()\n",
    "html = htmldiffer.make_file(lines1, lines2, 'kadi commands v1', 'kadi commands v2', context=True)\n",
    "\n",
    "out = Path('commands_v1_v2_diff.html')\n",
    "out.write_text(html)\n",
    "\n",
    "url = 'file://' + str(out.absolute())\n",
    "webbrowser.open(url)"
   ]
  },
  {
   "cell_type": "code",
   "execution_count": null,
   "metadata": {},
   "outputs": [],
   "source": []
  }
 ],
 "metadata": {
  "interpreter": {
   "hash": "d2df0004ee630a46de2935730c9c65ee0c09bd3f3b85f07c44dd36ceff3dbd5e"
  },
  "kernelspec": {
   "display_name": "Python 3.8.3 64-bit ('ska3': conda)",
   "language": "python",
   "name": "python3"
  },
  "language_info": {
   "codemirror_mode": {
    "name": "ipython",
    "version": 3
   },
   "file_extension": ".py",
   "mimetype": "text/x-python",
   "name": "python",
   "nbconvert_exporter": "python",
   "pygments_lexer": "ipython3",
   "version": "3.8.3"
  },
  "orig_nbformat": 4
 },
 "nbformat": 4,
 "nbformat_minor": 2
}
