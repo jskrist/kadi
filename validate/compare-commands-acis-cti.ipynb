{
 "cells": [
  {
   "cell_type": "markdown",
   "metadata": {},
   "source": [
    "# Compare commands for ACIS CTI commands in 2020:145 safe mode recovery\n",
    "\n",
    "The V1 (legacy) commands archive is used as a reference standard to validate\n",
    "the new V2 commands archive.\n",
    "\n",
    "The primary difference is that V1 non-load commands and load stoppages are \n",
    "generated using the Chandra.cmd_states non-load commands table and timelines,\n",
    "while V2 uses only the Flight Command Events from Google Sheets."
   ]
  },
  {
   "cell_type": "code",
   "execution_count": 1,
   "metadata": {},
   "outputs": [],
   "source": [
    "import sys\n",
    "import os\n",
    "from pathlib import Path\n",
    "import difflib\n",
    "import webbrowser\n",
    "\n",
    "import numpy as np\n",
    "# Around 2020:145 safe mode\n",
    "os.environ['KADI_COMMANDS_DEFAULT_STOP'] = '2020:152'\n",
    "\n",
    "# Using dev versions\n",
    "sys.path.insert(0, '../')\n",
    "sys.path.insert(0, str(Path.home() / 'git' / 'parse_cm'))\n",
    "sys.path.insert(0, str(Path.home() / 'git' / 'testr'))\n",
    "\n",
    "from kadi.commands import get_cmds, conf"
   ]
  },
  {
   "cell_type": "code",
   "execution_count": 2,
   "metadata": {},
   "outputs": [],
   "source": [
    "from kadi import logger\n",
    "# If needed for debugging...\n",
    "logger.setLevel(1)"
   ]
  },
  {
   "cell_type": "markdown",
   "metadata": {},
   "source": [
    "### Generate diffs for commands from 2020-01-01 to 2022-01-01\n",
    "\n",
    "In this era there are real diffs, but all are acceptable. The diffs have been\n",
    "reviewed individually by aspect team members."
   ]
  },
  {
   "cell_type": "code",
   "execution_count": 3,
   "metadata": {},
   "outputs": [],
   "source": [
    "start = '2020:146'\n",
    "stop = '2020:150'"
   ]
  },
  {
   "cell_type": "code",
   "execution_count": 4,
   "metadata": {},
   "outputs": [
    {
     "name": "stdout",
     "output_type": "stream",
     "text": [
      "2022-01-07 10:36:20,085 load_idx_cmds: Loaded /Users/aldcroft/ska/data/kadi/cmds.h5 with 1329878 commands\n"
     ]
    }
   ],
   "source": [
    "with conf.set_temp('commands_version', '1'):\n",
    "    cmds1 = get_cmds(start, stop)"
   ]
  },
  {
   "cell_type": "code",
   "execution_count": 5,
   "metadata": {},
   "outputs": [
    {
     "name": "stdout",
     "output_type": "stream",
     "text": [
      "2022-01-07 10:36:20,282 update_cmd_events: Getting cmd_events from https://docs.google.com/spreadsheets/d/19d6XqBhWoFjC-z1lS1nM6wLE_zjr4GYB1lOvrEGCbKQ/export?format=csv\n",
      "2022-01-07 10:36:20,938 update_cmd_events: Writing 23 cmd_events to /Users/aldcroft/.kadi/cmd_events.csv\n",
      "2022-01-07 10:36:20,947 get_occweb_page: Getting OCCweb FOT/mission_planning/PRODUCTS/APPR_LOADS/2020/MAY with cache=False\n",
      "2022-01-07 10:36:21,203 get_load_cmds_from_occweb_or_local: Already have /Users/aldcroft/.kadi/loads/MAY0420A.pkl.gz\n",
      "2022-01-07 10:36:21,210 get_load_cmds_from_occweb_or_local: Already have /Users/aldcroft/.kadi/loads/MAY1120B.pkl.gz\n",
      "2022-01-07 10:36:21,216 get_load_cmds_from_occweb_or_local: Already have /Users/aldcroft/.kadi/loads/MAY1820A.pkl.gz\n",
      "2022-01-07 10:36:21,222 get_load_dict_from_cmds: NSM at 2020:145:14:17:20 found for MAY1820A\n",
      "2022-01-07 10:36:21,223 get_load_cmds_from_occweb_or_local: Already have /Users/aldcroft/.kadi/loads/MAY2420A.pkl.gz\n",
      "2022-01-07 10:36:21,229 get_load_dict_from_cmds: NSM at 2020:145:14:17:20 found for MAY2420A\n",
      "2022-01-07 10:36:21,231 get_load_cmds_from_occweb_or_local: Already have /Users/aldcroft/.kadi/loads/MAY2620B.pkl.gz\n",
      "2022-01-07 10:36:21,238 get_load_cmds_from_occweb_or_local: Already have /Users/aldcroft/.kadi/loads/MAY2820A.pkl.gz\n",
      "2022-01-07 10:36:21,243 update_loads: Saving 6 loads to /Users/aldcroft/.kadi/loads.csv\n",
      "2022-01-07 10:36:21,247 update_archive_and_get_cmds_recent: Including loads MAY0420A, MAY1120B, MAY1820A, MAY2420A, MAY2620B, MAY2820A\n",
      "2022-01-07 10:36:21,251 update_archive_and_get_cmds_recent: Load MAY0420A has 1263 commands\n",
      "2022-01-07 10:36:21,254 update_archive_and_get_cmds_recent: Load MAY1120B has 1124 commands\n",
      "2022-01-07 10:36:21,258 interrupt_load_commands: Cutting 130 commands from MAY1820A\n",
      "2022-01-07 10:36:21,259 update_archive_and_get_cmds_recent: Load MAY1820A has 1457 commands\n",
      "2022-01-07 10:36:21,263 interrupt_load_commands: Cutting 1404 commands from MAY2420A\n",
      "2022-01-07 10:36:21,264 update_archive_and_get_cmds_recent: Load MAY2420A has 106 commands\n",
      "2022-01-07 10:36:21,266 update_archive_and_get_cmds_recent: Load MAY2620B has 66 commands\n",
      "2022-01-07 10:36:21,269 update_archive_and_get_cmds_recent: Load MAY2820A has 960 commands\n",
      "2022-01-07 10:36:21,279 update_archive_and_get_cmds_recent: Including cmd_events:\n",
      "  RTS at 2020:148:14:16:00\n",
      "  Obsid at 2020:148:14:15:00\n",
      "  Maneuver at 2020:147:11:21:00\n",
      "  RTS at 2020:147:02:08:00\n",
      "  Obsid at 2020:147:02:05:00\n",
      "  Maneuver at 2020:147:01:55:00\n",
      "  Command at 2020:145:14:17:30\n",
      "  NSM at 2020:145:14:17:20\n",
      "2022-01-07 10:36:21,289 get_occweb_page: Getting OCCweb FOT/configuration/products/rts/1_4_CTI.RTS with cache=True\n",
      "2022-01-07 10:36:21,326 update_archive_and_get_cmds_recent: Adding 1263 commands from MAY0420A\n",
      "2022-01-07 10:36:21,327 update_archive_and_get_cmds_recent: Adding 1124 commands from MAY1120B\n",
      "2022-01-07 10:36:21,327 update_archive_and_get_cmds_recent: Adding 1457 commands from MAY1820A\n",
      "2022-01-07 10:36:21,328 update_archive_and_get_cmds_recent: Removing 12 cmds from MAY1820A\n",
      "2022-01-07 10:36:21,329 update_archive_and_get_cmds_recent: Adding 106 commands from MAY2420A\n",
      "2022-01-07 10:36:21,330 update_archive_and_get_cmds_recent: Adding 8 commands from CMD_EVT\n",
      "2022-01-07 10:36:21,330 update_archive_and_get_cmds_recent: Adding 1 commands from CMD_EVT\n",
      "2022-01-07 10:36:21,331 update_archive_and_get_cmds_recent: Adding 4 commands from CMD_EVT\n",
      "2022-01-07 10:36:21,331 update_archive_and_get_cmds_recent: Adding 1 commands from CMD_EVT\n",
      "2022-01-07 10:36:21,332 update_archive_and_get_cmds_recent: Adding 18 commands from CMD_EVT\n",
      "2022-01-07 10:36:21,333 update_archive_and_get_cmds_recent: Adding 4 commands from CMD_EVT\n",
      "2022-01-07 10:36:21,333 update_archive_and_get_cmds_recent: Adding 66 commands from MAY2620B\n",
      "2022-01-07 10:36:21,334 update_archive_and_get_cmds_recent: Adding 1 commands from CMD_EVT\n",
      "2022-01-07 10:36:21,334 update_archive_and_get_cmds_recent: Adding 18 commands from CMD_EVT\n",
      "2022-01-07 10:36:21,335 update_archive_and_get_cmds_recent: Removing 7 cmds from CMD_EVT\n",
      "2022-01-07 10:36:21,336 update_archive_and_get_cmds_recent: Adding 960 commands from MAY2820A\n",
      "2022-01-07 10:36:21,359 get_cmds: Getting commands from recent only scenario=None\n"
     ]
    }
   ],
   "source": [
    "with conf.set_temp('commands_version', '2'):\n",
    "    cmds2 = get_cmds(start, stop)"
   ]
  },
  {
   "cell_type": "code",
   "execution_count": 6,
   "metadata": {},
   "outputs": [],
   "source": [
    "# Commands V1 does not have starcat parameters or LOAD_EVENT commands\n",
    "for cmds in cmds1, cmds2:\n",
    "    ok = cmds['type'] == 'MP_STARCAT'\n",
    "    cmds['params'][ok] = {}\n",
    "    ok = cmds['type'] == 'LOAD_EVENT'\n",
    "    cmds.remove_rows(np.where(ok)[0])\n",
    "    cmds.sort(['date', 'step', 'scs'])"
   ]
  },
  {
   "cell_type": "code",
   "execution_count": 7,
   "metadata": {},
   "outputs": [
    {
     "data": {
      "text/plain": [
       "(340, 358)"
      ]
     },
     "execution_count": 7,
     "metadata": {},
     "output_type": "execute_result"
    }
   ],
   "source": [
    "# There are differences in the number of commands\n",
    "len(cmds1), len(cmds2)"
   ]
  },
  {
   "cell_type": "code",
   "execution_count": 8,
   "metadata": {},
   "outputs": [
    {
     "name": "stdout",
     "output_type": "stream",
     "text": [
      "2022-01-07 10:36:21,518 load_pars_dict: Loaded /Users/aldcroft/ska/data/kadi/cmds.pkl with 71769 pars\n"
     ]
    }
   ],
   "source": [
    "lines1 = cmds1.pformat_like_backstop(show_source=False, show_nonload_meta=False, max_params_width=40,\n",
    "                                     sort_orbit_events=True)\n",
    "lines2 = cmds2.pformat_like_backstop(show_source=False, show_nonload_meta=False, max_params_width=40, \n",
    "                                     sort_orbit_events=True)"
   ]
  },
  {
   "cell_type": "code",
   "execution_count": 9,
   "metadata": {},
   "outputs": [
    {
     "data": {
      "text/plain": [
       "True"
      ]
     },
     "execution_count": 9,
     "metadata": {},
     "output_type": "execute_result"
    }
   ],
   "source": [
    "htmldiffer = difflib.HtmlDiff()\n",
    "html = htmldiffer.make_file(lines1, lines2, 'kadi commands v1', 'kadi commands v2', context=True)\n",
    "\n",
    "out = Path('commands_v1_v2_diff.html')\n",
    "out.write_text(html)\n",
    "\n",
    "url = 'file://' + str(out.absolute())\n",
    "webbrowser.open(url)"
   ]
  },
  {
   "cell_type": "code",
   "execution_count": null,
   "metadata": {},
   "outputs": [],
   "source": []
  }
 ],
 "metadata": {
  "interpreter": {
   "hash": "d2df0004ee630a46de2935730c9c65ee0c09bd3f3b85f07c44dd36ceff3dbd5e"
  },
  "kernelspec": {
   "display_name": "Python 3.8.3 64-bit ('ska3': conda)",
   "language": "python",
   "name": "python3"
  },
  "language_info": {
   "codemirror_mode": {
    "name": "ipython",
    "version": 3
   },
   "file_extension": ".py",
   "mimetype": "text/x-python",
   "name": "python",
   "nbconvert_exporter": "python",
   "pygments_lexer": "ipython3",
   "version": "3.8.3"
  },
  "orig_nbformat": 4
 },
 "nbformat": 4,
 "nbformat_minor": 2
}
