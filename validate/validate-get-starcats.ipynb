{
 "cells": [
  {
   "cell_type": "code",
   "execution_count": 3,
   "metadata": {},
   "outputs": [],
   "source": [
    "from kadi.commands import get_starcats, get_observations\n",
    "import numpy as np"
   ]
  },
  {
   "cell_type": "code",
   "execution_count": 7,
   "metadata": {},
   "outputs": [],
   "source": [
    "STARCATS = {}"
   ]
  },
  {
   "cell_type": "code",
   "execution_count": 8,
   "metadata": {},
   "outputs": [],
   "source": [
    "def test_get_starcats_each_year(year):\n",
    "    starcats = get_starcats(start=f'{year}:001', stop=f'{year+1}:001')\n",
    "    assert len(starcats) > 2\n",
    "    for starcat in starcats:\n",
    "        # Make sure fids and stars are all ID'd\n",
    "        ok = (starcat['type'] != 'MON') & (starcat['type'] != 'FID')\n",
    "        if np.any(starcat['id'][ok] == -999):\n",
    "            print('Bad stars', starcat.obsid)\n",
    "            STARCATS[starcat.obsid] = starcat\n",
    "        ok = starcat['type'] == 'FID'\n",
    "        if np.any(starcat['id'][ok] == -999):\n",
    "            print('Bad fids', starcat.obsid, starcat.sim_offset, starcat.detector)\n",
    "            STARCATS[starcat.obsid] = starcat\n",
    "\n"
   ]
  },
  {
   "cell_type": "code",
   "execution_count": 10,
   "metadata": {},
   "outputs": [
    {
     "name": "stdout",
     "output_type": "stream",
     "text": [
      "year=2003\n",
      "Bad fids 3778 -1177 ACIS-I\n",
      "Bad fids 4000 -1177 ACIS-I\n",
      "Bad fids 4912 -4 HRC-S\n",
      "year=2004\n",
      "Bad fids 4937 -4 HRC-S\n",
      "Bad fids 60116 -4 HRC-S\n",
      "year=2005\n",
      "Bad fids 5587 1 HRC-I\n",
      "year=2006\n",
      "Bad fids 6723 -1 ACIS-I\n",
      "Bad fids 6432 -4 HRC-S\n",
      "Bad fids 58647 -4 HRC-S\n",
      "year=2007\n",
      "Bad fids 7763 -2444 ACIS-S\n",
      "Bad fids 7525 -2444 ACIS-S\n",
      "year=2008\n",
      "year=2009\n",
      "year=2010\n",
      "year=2011\n",
      "year=2012\n",
      "year=2013\n",
      "year=2014\n",
      "year=2015\n",
      "year=2016\n",
      "year=2017\n",
      "year=2018\n",
      "year=2019\n",
      "year=2020\n",
      "year=2021\n"
     ]
    }
   ],
   "source": [
    "for year in range(2003, 2023):\n",
    "    print(f'{year=}')\n",
    "    test_get_starcats_each_year(year)"
   ]
  },
  {
   "cell_type": "code",
   "execution_count": 11,
   "metadata": {},
   "outputs": [],
   "source": [
    "test_get_starcats_each_year(2022)"
   ]
  },
  {
   "cell_type": "code",
   "execution_count": 12,
   "metadata": {},
   "outputs": [
    {
     "data": {
      "text/plain": [
       "{'obsid': 3778,\n",
       " 'simpos': 91728,\n",
       " 'obs_stop': '2003:279:05:39:43.813',\n",
       " 'manvr_start': '2003:278:20:50:30.377',\n",
       " 'targ_att': (-0.575413844, 0.226031366, -0.718979674, 0.31761133),\n",
       " 'npnt_enab': True,\n",
       " 'obs_start': '2003:278:21:06:12.378',\n",
       " 'prev_att': (-0.424640337, 0.241997971, -0.84008342, 0.235324062),\n",
       " 'starcat_idx': 139840,\n",
       " 'source': 'OCT0503B'}"
      ]
     },
     "execution_count": 12,
     "metadata": {},
     "output_type": "execute_result"
    }
   ],
   "source": [
    "get_observations(obsid=3778)[0]"
   ]
  },
  {
   "cell_type": "code",
   "execution_count": 13,
   "metadata": {},
   "outputs": [],
   "source": [
    "from kadi import events"
   ]
  },
  {
   "cell_type": "code",
   "execution_count": 16,
   "metadata": {},
   "outputs": [
    {
     "data": {
      "text/html": [
       "<div><i>Table length=0</i>\n",
       "<table id=\"table140517817982688\" class=\"table-striped table-bordered table-condensed\">\n",
       "<thead><tr><th>start</th><th>date</th><th>tstart</th><th>descr</th><th>note</th><th>source</th></tr></thead>\n",
       "<thead><tr><th>float64</th><th>float64</th><th>float64</th><th>float64</th><th>float64</th><th>float64</th></tr></thead>\n",
       "</table></div>"
      ],
      "text/plain": [
       "<Table length=0>\n",
       " start    date   tstart  descr    note   source\n",
       "float64 float64 float64 float64 float64 float64\n",
       "------- ------- ------- ------- ------- -------"
      ]
     },
     "execution_count": 16,
     "metadata": {},
     "output_type": "execute_result"
    }
   ],
   "source": [
    "events.major_events.filter(start='2003:277', stop='2003:280').table"
   ]
  },
  {
   "cell_type": "code",
   "execution_count": null,
   "metadata": {},
   "outputs": [],
   "source": []
  }
 ],
 "metadata": {
  "interpreter": {
   "hash": "d2df0004ee630a46de2935730c9c65ee0c09bd3f3b85f07c44dd36ceff3dbd5e"
  },
  "kernelspec": {
   "display_name": "Python 3.8.12 ('ska3')",
   "language": "python",
   "name": "python3"
  },
  "language_info": {
   "codemirror_mode": {
    "name": "ipython",
    "version": 3
   },
   "file_extension": ".py",
   "mimetype": "text/x-python",
   "name": "python",
   "nbconvert_exporter": "python",
   "pygments_lexer": "ipython3",
   "version": "3.8.12"
  },
  "orig_nbformat": 4
 },
 "nbformat": 4,
 "nbformat_minor": 2
}
