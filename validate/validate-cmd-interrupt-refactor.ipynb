{
 "cells": [
  {
   "cell_type": "markdown",
   "metadata": {},
   "source": [
    "# Validate PR #248 to refactor command interrupt handling\n",
    "\n",
    "This notebook compares the commands generated using PR #248 to those from\n",
    "current flight (kadi 6.0.1). \n",
    "\n",
    "The notebook assumes that a new commands archive\n",
    "(`cmds2.h5, cmds2.pkl`) has been created in the current directory using\n",
    "`utils.migrate_cmds_to_cmds2.make_cmds2()`.\n",
    "\n",
    "All diffs are either expected or reveal issues in the current flight\n",
    "processing to determine observation intervals (`OBS` `LOAD_EVT` commands)."
   ]
  },
  {
   "cell_type": "code",
   "execution_count": 1,
   "metadata": {},
   "outputs": [],
   "source": [
    "import os\n",
    "from pathlib import Path\n",
    "\n",
    "import numpy as np\n",
    "\n",
    "from kadi import __version__, logger\n",
    "from kadi.commands import commands_v2\n",
    "from kadi.commands.commands_v2 import clear_caches, get_cmds"
   ]
  },
  {
   "cell_type": "code",
   "execution_count": 2,
   "metadata": {},
   "outputs": [
    {
     "name": "stdout",
     "output_type": "stream",
     "text": [
      "6.0.1\n"
     ]
    }
   ],
   "source": [
    "print(__version__)"
   ]
  },
  {
   "cell_type": "code",
   "execution_count": 3,
   "metadata": {},
   "outputs": [],
   "source": [
    "logger.setLevel(10)"
   ]
  },
  {
   "cell_type": "code",
   "execution_count": 4,
   "metadata": {},
   "outputs": [],
   "source": [
    "def get_ok(cmds):\n",
    "    \"\"\"PR #248 includes new commands that are not in the old archive so we\n",
    "    filter them out here.\"\"\"\n",
    "    ignore = (cmds[\"type\"] == \"LOAD_EVENT\") & (\n",
    "        cmds[\"event_type\"] == \"SCHEDULED_STOP_TIME\"\n",
    "    )\n",
    "    ignore |= (\n",
    "        (cmds[\"type\"] == \"LOAD_EVENT\")\n",
    "        & (cmds[\"source\"] == \"CMD_EVT\")\n",
    "        & np.isin(cmds[\"event_type\"], [\"LOAD_NOT_RUN\", \"OBSERVING_NOT_RUN\"])\n",
    "    )\n",
    "    ignore |= (cmds[\"tlmsid\"] == \"CODISASX\") & (cmds[\"source\"] == \"CMD_EVT\")\n",
    "    return ~ignore"
   ]
  },
  {
   "cell_type": "code",
   "execution_count": 5,
   "metadata": {},
   "outputs": [],
   "source": [
    "start = \"2000:001\"\n",
    "stop = \"2022:240\""
   ]
  },
  {
   "cell_type": "code",
   "execution_count": 6,
   "metadata": {},
   "outputs": [
    {
     "name": "stdout",
     "output_type": "stream",
     "text": [
      "2022-08-26 06:18:05,561 get_cmds: Getting commands from archive only\n",
      "2022-08-26 06:18:05,743 load_idx_cmds: Loaded /Users/aldcroft/ska/data/kadi/cmds2.h5 with 1416611 commands\n",
      "2022-08-26 06:18:06,172 load_pars_dict: Loaded /Users/aldcroft/ska/data/kadi/cmds2.pkl with 146263 pars\n",
      "146263\n",
      "146263\n"
     ]
    }
   ],
   "source": [
    "cmds_flight = get_cmds(start, stop, scenario='flight')\n",
    "ok = get_ok(cmds_flight)\n",
    "cmds_flight_ok = cmds_flight[ok]\n",
    "print(len(commands_v2.PARS_DICT))\n",
    "print(len(commands_v2.REV_PARS_DICT))"
   ]
  },
  {
   "cell_type": "code",
   "execution_count": 7,
   "metadata": {},
   "outputs": [],
   "source": [
    "clear_caches()\n",
    "del commands_v2.PARS_DICT._val\n",
    "del commands_v2.REV_PARS_DICT._val\n",
    "\n",
    "os.environ['KADI'] = os.path.abspath('..')"
   ]
  },
  {
   "cell_type": "code",
   "execution_count": 8,
   "metadata": {},
   "outputs": [
    {
     "name": "stdout",
     "output_type": "stream",
     "text": [
      "2022-08-26 06:18:23,822 get_cmds: Getting commands from archive only\n",
      "2022-08-26 06:18:23,977 load_idx_cmds: Loaded /Users/aldcroft/git/kadi/cmds2.h5 with 1416689 commands\n",
      "2022-08-26 06:18:24,304 load_pars_dict: Loaded /Users/aldcroft/git/kadi/cmds2.pkl with 146150 pars\n",
      "146150\n",
      "146150\n"
     ]
    }
   ],
   "source": [
    "cmds_local = get_cmds(start, stop, scenario='flight')\n",
    "ok = get_ok(cmds_local)\n",
    "cmds_local_ok = cmds_local[ok]\n",
    "print(len(commands_v2.PARS_DICT))\n",
    "print(len(commands_v2.REV_PARS_DICT))"
   ]
  },
  {
   "cell_type": "code",
   "execution_count": 9,
   "metadata": {},
   "outputs": [
    {
     "name": "stdout",
     "output_type": "stream",
     "text": [
      "1416396 1416400\n",
      "1416507 1416585\n"
     ]
    }
   ],
   "source": [
    "print(len(cmds_flight_ok), len(cmds_local_ok))\n",
    "print(len(cmds_flight), len(cmds_local))"
   ]
  },
  {
   "cell_type": "code",
   "execution_count": 10,
   "metadata": {},
   "outputs": [
    {
     "data": {
      "text/plain": [
       "159237187"
      ]
     },
     "execution_count": 10,
     "metadata": {},
     "output_type": "execute_result"
    }
   ],
   "source": [
    "# Code to debug problems, leave commented for production\n",
    "out = \"\\n\".join(cmds_flight_ok.pformat_like_backstop(max_params_width=200))\n",
    "Path(\"cmds_flight.txt\").write_text(out)\n",
    "out = \"\\n\".join(cmds_local_ok.pformat_like_backstop(max_params_width=200))\n",
    "Path(\"cmds_local.txt\").write_text(out)"
   ]
  },
  {
   "cell_type": "markdown",
   "metadata": {},
   "source": [
    "### Results of `diff cmds_flight.txt cmds_local.txt`\n",
    "\n",
    "Change in `obs_stop` for an `OBS` load event. The new (local) version has \n",
    "`obs_stop` at the time of the commanded maneuver at 224:02:25, so that is correct for\n",
    "defining the end of the observation.\n",
    "```\n",
    "1413286c1413286\n",
    "< 2022:223:13:20:43.345 | LOAD_EVENT       | OBS        | AUG0822A | obsid=45339, simpos=-99616, obs_stop=2022:223:14:15:03.094, manvr_start=2022:223:12:40:44.686, targ_att=(-0.12752005, 0.556391476, -0.351473717, 0.742046756), npnt_enab=True, obs_start=2022:223:13:20:\n",
    "---\n",
    "> 2022:223:13:20:43.345 | LOAD_EVENT       | OBS        | AUG0822A | obsid=45339, simpos=-99616, obs_stop=2022:224:02:25:00.000, manvr_start=2022:223:12:40:44.686, targ_att=(-0.12752005, 0.556391476, -0.351473717, 0.742046756), npnt_enab=True, obs_start=2022:223:13:20:\n",
    "```\n",
    "This `AODSDITH` command did not happen, so `cmds_local` is correct:\n",
    "```\n",
    "1413295d1413294\n",
    "< 2022:223:13:50:40.960 | COMMAND_SW       | AODSDITH   | CMD_EVT  | event=Bright_star_hold, event_date=2022:223:13:49:23, scs=0\n",
    "```\n",
    "The new version is correct. The AUG1322A loads have a maneuver starting at 2022:225:11:40:00.\n",
    "```\n",
    "1413309c1413308\n",
    "< 2022:224:02:40:48.033 | LOAD_EVENT       | OBS        | CMD_EVT  | obsid=45339, simpos=-99616, obs_stop=2022:226:19:15:48.867, manvr_start=2022:224:02:25:10.250, targ_att=(-0.24849372, 0.40954561, -0.31440262, 0.81955735), npnt_enab=True, obs_start=2022:224:02:40:48.\n",
    "---\n",
    "> 2022:224:02:40:48.033 | LOAD_EVENT       | OBS        | CMD_EVT  | obsid=45339, simpos=-99616, obs_stop=2022:225:11:40:00.000, manvr_start=2022:224:02:25:10.250, targ_att=(-0.24849372, 0.40954561, -0.31440262, 0.81955735), npnt_enab=True, obs_start=2022:224:02:40:48.\n",
    "```\n",
    "New version is correct, NSM at 2022:231:18:36:00 stops the observation.\n",
    "```\n",
    "1415054c1415053\n",
    "< 2022:231:17:04:23.363 | LOAD_EVENT       | OBS        | AUG1322A | obsid=45317, simpos=-99616, obs_stop=2022:231:19:36:57.259, manvr_start=2022:231:16:44:24.407, targ_att=(0.649105589, -0.0318838109, -0.225906169, 0.725680205), npnt_enab=True, obs_start=2022:231:17:0\n",
    "---\n",
    "> 2022:231:17:04:23.363 | LOAD_EVENT       | OBS        | AUG1322A | obsid=45317, simpos=-99616, obs_stop=2022:231:18:36:00.000, manvr_start=2022:231:16:44:24.407, targ_att=(0.649105589, -0.0318838109, -0.225906169, 0.725680205), npnt_enab=True, obs_start=2022:231:17:0\n",
    "```\n",
    "Tiny difference in the target attitude due to timing difference.\n",
    "```\n",
    "1415082c1415081\n",
    "< 2022:231:19:05:05.999 | LOAD_EVENT       | OBS        | CMD_EVT  | obsid=45317, simpos=-99616, obs_stop=2022:232:03:07:00.000, manvr_start=2022:231:18:36:00.000, targ_att=(0.6377368264106795, 0.4497793420951543, 0.2522209483727346, 0.5721668262453579), npnt_enab=Fals\n",
    "---\n",
    "> 2022:231:19:05:05.999 | LOAD_EVENT       | OBS        | CMD_EVT  | obsid=45317, simpos=-99616, obs_stop=2022:232:03:07:00.000, manvr_start=2022:231:18:36:00.000, targ_att=(0.6377368264106797, 0.44977934209515424, 0.2522209483727345, 0.572166826245358), npnt_enab=Fals\n",
    "```\n",
    "Tiny difference in the target attitude due to timing difference.\n",
    "```\n",
    "1415089c1415088\n",
    "< 2022:232:03:07:00.000 | LOAD_EVENT       | OBS        | CMD_EVT  | obsid=62624, simpos=-99616, obs_stop=2022:232:20:07:21.000, manvr_start=2022:231:18:36:00.000, targ_att=(0.6377368264106795, 0.4497793420951543, 0.2522209483727346, 0.5721668262453579), npnt_enab=Fals\n",
    "---\n",
    "> 2022:232:03:07:00.000 | LOAD_EVENT       | OBS        | CMD_EVT  | obsid=62624, simpos=-99616, obs_stop=2022:232:20:07:21.000, manvr_start=2022:231:18:36:00.000, targ_att=(0.6377368264106797, 0.44977934209515424, 0.2522209483727345, 0.572166826245358), npnt_enab=Fals\n",
    "```\n",
    "New version is correct, obsid change to 62623 at 234:22:12:12.000. Flight version has\n",
    "`obs_stop` at `2022:233:17:40:00` but there is really nothing happening then,\n",
    "so that just seems like a bug.\n",
    "```\n",
    "1415105c1415104\n",
    "< 2022:232:20:32:28.838 | LOAD_EVENT       | OBS        | CMD_EVT  | obsid=62624, simpos=-99616, obs_stop=2022:233:17:40:00.000, manvr_start=2022:232:20:07:31.250, targ_att=(0.70443765, 0.06647616, -0.10211985, 0.69922818), npnt_enab=True, obs_start=2022:232:20:32:28.8\n",
    "---\n",
    "> 2022:232:20:32:28.838 | LOAD_EVENT       | OBS        | CMD_EVT  | obsid=62624, simpos=-99616, obs_stop=2022:234:22:12:12.000, manvr_start=2022:232:20:07:31.250, targ_att=(0.70443765, 0.06647616, -0.10211985, 0.69922818), npnt_enab=True, obs_start=2022:232:20:32:28.8\n",
    "```\n",
    "New version is correct, flight version was erroneously cutting the ACIS CTI\n",
    "for the RLTT of command loads that were not run.\n",
    "```\n",
    "1415110a1415110,1415114\n",
    "> 2022:233:18:10:43.000 | ACISPKT          | AA00000000 | CMD_EVT  | event=RTS, event_date=2022:232:03:09:00, scs=135\n",
    "> 2022:233:18:10:53.000 | ACISPKT          | AA00000000 | CMD_EVT  | event=RTS, event_date=2022:232:03:09:00, scs=135\n",
    "> 2022:233:18:10:57.000 | ACISPKT          | WSPOW0002A | CMD_EVT  | event=RTS, event_date=2022:232:03:09:00, scs=135\n",
    "> 2022:233:18:12:00.000 | ACISPKT          | RS_0000001 | CMD_EVT  | event=RTS, event_date=2022:232:03:09:00, scs=135\n",
    "> 2022:233:18:12:04.000 | COMMAND_SW       | OORMPDS    | CMD_EVT  | event=RTS, event_date=2022:232:03:09:00, msid=OORMPDS, scs=135\n",
    "```"
   ]
  },
  {
   "cell_type": "markdown",
   "metadata": {},
   "source": []
  }
 ],
 "metadata": {
  "kernelspec": {
   "display_name": "Python 3.8.12 ('ska3')",
   "language": "python",
   "name": "python3"
  },
  "language_info": {
   "codemirror_mode": {
    "name": "ipython",
    "version": 3
   },
   "file_extension": ".py",
   "mimetype": "text/x-python",
   "name": "python",
   "nbconvert_exporter": "python",
   "pygments_lexer": "ipython3",
   "version": "3.8.12"
  },
  "orig_nbformat": 4,
  "vscode": {
   "interpreter": {
    "hash": "d2df0004ee630a46de2935730c9c65ee0c09bd3f3b85f07c44dd36ceff3dbd5e"
   }
  }
 },
 "nbformat": 4,
 "nbformat_minor": 2
}
